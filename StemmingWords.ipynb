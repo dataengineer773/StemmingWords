{
 "cells": [
  {
   "cell_type": "code",
   "execution_count": 1,
   "id": "9a31de4e-26f1-432e-8f43-ad256a948551",
   "metadata": {},
   "outputs": [],
   "source": [
    "# Load library\n",
    "from nltk.stem.porter import PorterStemmer"
   ]
  },
  {
   "cell_type": "code",
   "execution_count": 2,
   "id": "4bc9bb7b-d63a-461f-a761-95d2c2c0cab1",
   "metadata": {},
   "outputs": [],
   "source": [
    "# Create word tokens\n",
    "tokenized_words = ['i', 'am', 'humbled', 'by', 'this', 'traditional', 'meeting']"
   ]
  },
  {
   "cell_type": "code",
   "execution_count": 3,
   "id": "1ab3ad85-9c2f-4cb8-8ac1-882b5441b3f0",
   "metadata": {},
   "outputs": [],
   "source": [
    "# Create stemmer\n",
    "porter = PorterStemmer()"
   ]
  },
  {
   "cell_type": "code",
   "execution_count": 4,
   "id": "6101e908-562e-4e80-a9df-81560d753e12",
   "metadata": {},
   "outputs": [
    {
     "data": {
      "text/plain": [
       "['i', 'am', 'humbl', 'by', 'thi', 'tradit', 'meet']"
      ]
     },
     "execution_count": 4,
     "metadata": {},
     "output_type": "execute_result"
    }
   ],
   "source": [
    "# Apply stemmer\n",
    "[porter.stem(word) for word in tokenized_words]"
   ]
  },
  {
   "cell_type": "code",
   "execution_count": null,
   "id": "799ae5e3-4982-42ae-9f8d-4713defe3efa",
   "metadata": {},
   "outputs": [],
   "source": []
  }
 ],
 "metadata": {
  "kernelspec": {
   "display_name": "Python 3 (ipykernel)",
   "language": "python",
   "name": "python3"
  },
  "language_info": {
   "codemirror_mode": {
    "name": "ipython",
    "version": 3
   },
   "file_extension": ".py",
   "mimetype": "text/x-python",
   "name": "python",
   "nbconvert_exporter": "python",
   "pygments_lexer": "ipython3",
   "version": "3.12.3"
  }
 },
 "nbformat": 4,
 "nbformat_minor": 5
}
